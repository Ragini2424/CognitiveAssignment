{
  "nbformat": 4,
  "nbformat_minor": 0,
  "metadata": {
    "colab": {
      "provenance": [],
      "authorship_tag": "ABX9TyOcNqqn6ybeGthp+iOFhcTF",
      "include_colab_link": true
    },
    "kernelspec": {
      "name": "python3",
      "display_name": "Python 3"
    },
    "language_info": {
      "name": "python"
    }
  },
  "cells": [
    {
      "cell_type": "markdown",
      "metadata": {
        "id": "view-in-github",
        "colab_type": "text"
      },
      "source": [
        "<a href=\"https://colab.research.google.com/github/Ragini2424/CognitiveAssignment/blob/main/cognitive_ass4.ipynb\" target=\"_parent\"><img src=\"https://colab.research.google.com/assets/colab-badge.svg\" alt=\"Open In Colab\"/></a>"
      ]
    },
    {
      "cell_type": "code",
      "execution_count": 1,
      "metadata": {
        "colab": {
          "base_uri": "https://localhost:8080/"
        },
        "id": "_ZCzgG_D0Ghu",
        "outputId": "4dec18c5-2343-48f4-8339-74e8c19eaf3f"
      },
      "outputs": [
        {
          "output_type": "stream",
          "name": "stdout",
          "text": [
            "[3 4 5 6 7]\n",
            "[ 3  6  9 12 15]\n",
            "[0.5 1.  1.5 2.  2.5]\n"
          ]
        }
      ],
      "source": [
        "'''Q.1 Write a program to create a NumPy 1D-array with 5 elements and perform basic\n",
        "operations like:\n",
        "a) Addition of 2 in all the element\n",
        "b) Multiply 3 with all the elements\n",
        "c) Divide every element by 2 '''\n",
        "import numpy as np\n",
        "a = np.array([1,2,3,4,5])\n",
        "print (a + 2)\n",
        "print(a*3)\n",
        "print(a/2)\n",
        "\n"
      ]
    },
    {
      "cell_type": "code",
      "source": [
        "'''Q.2 Questions on Basic NumPy Array:\n",
        "a) Reverse the NumPy array: arr = np.array([1, 2, 3, 6, 4, 5])\n",
        "b) Find the most frequent value and their indice(s) in the following arrays:\n",
        "i. x = np.array([1,2,3,4,5,1,2,1,1,1])\n",
        "ii. y = np.array([1, 1, 1, 2, 3, 4, 2, 4, 3, 3, ])'''\n",
        "\n",
        "import numpy as np\n",
        "\n",
        "# (a) Reverse the NumPy array\n",
        "arr = np.array([1, 2, 3, 6, 4, 5])\n",
        "reversed_arr = arr[::-1]\n",
        "print(\"Reversed array:\", reversed_arr)\n",
        "\n",
        "# (b) Find the most frequent value and its indices\n",
        "def most_frequent(arr):\n",
        "    val = max(arr, key=list(arr).count)\n",
        "    return val, np.where(arr == val)[0]\n",
        "\n",
        "x = np.array([1, 2, 3, 4, 5, 1, 2, 1, 1, 1])\n",
        "y = np.array([1, 1, 1, 2, 3, 4, 2, 4, 3, 3])\n",
        "\n",
        "print(\"Most frequent in x:\", most_frequent(x))\n",
        "print(\"Most frequent in y:\", most_frequent(y))\n",
        "\n",
        "\n"
      ],
      "metadata": {
        "colab": {
          "base_uri": "https://localhost:8080/"
        },
        "id": "AyRQc6uF0QZZ",
        "outputId": "35728d55-d9fd-4989-f26c-3797f52f2cd2"
      },
      "execution_count": 2,
      "outputs": [
        {
          "output_type": "stream",
          "name": "stdout",
          "text": [
            "Reversed array: [5 4 6 3 2 1]\n",
            "Most frequent in x: (1, array([0, 5, 7, 8, 9]))\n",
            "Most frequent in y: (1, array([0, 1, 2]))\n"
          ]
        }
      ]
    },
    {
      "cell_type": "code",
      "source": [
        "'''Q.3 For the given 2-D array arr=np.array([10, 20, 30], [40, 50, 60], [70, 80, 90]), access\n",
        "elements using row and column indices as follows:\n",
        "a) Access 1st row, 2nd column\n",
        "b) Access 3rd row, 1st column '''\n",
        "\n",
        "import numpy as np\n",
        "\n",
        "arr = np.array([\n",
        "    [10, 20, 30],\n",
        "    [40, 50, 60],\n",
        "    [70, 80, 90]\n",
        "])\n",
        "\n",
        "print(\"1st row, 2nd column:\", arr[0, 1])\n",
        "print(\"3rd row, 1st column:\", arr[2, 0])\n"
      ],
      "metadata": {
        "colab": {
          "base_uri": "https://localhost:8080/"
        },
        "id": "Wzebw7UM0bC2",
        "outputId": "453f325a-df5a-416f-cab7-69ff58ae9426"
      },
      "execution_count": 3,
      "outputs": [
        {
          "output_type": "stream",
          "name": "stdout",
          "text": [
            "1st row, 2nd column: 20\n",
            "3rd row, 1st column: 70\n"
          ]
        }
      ]
    },
    {
      "cell_type": "code",
      "source": [
        "'''Q.4 Write program to create an 1-D NumPy array named <<Your Name>> with evenly\n",
        "spaced 25 numbers from 10 to 100 using linspace(). Print the dimensions of the array,\n",
        "shape, total elements, the data type of each element and total number of bytes consumed\n",
        "by the array. Find the transpose of this array using reshape() attribute. Can we do the same\n",
        "with T attribute?'''\n",
        "import numpy as np\n",
        "\n",
        "Ragini = np.linspace(10, 100, 25)\n",
        "\n",
        "print(\"Array:\", Ragini)\n",
        "print(\"Dimensions of the array:\", Ragini.ndim)\n",
        "print(\"Shape of the array:\", Ragini.shape)\n",
        "print(\"Total elements in the array:\", Ragini.size)\n",
        "print(\"Data type of each element:\", Ragini.dtype)\n",
        "print(\"Total number of bytes consumed:\", Ragini.nbytes)\n",
        "\n",
        "Ragini_reshaped = Ragini.reshape(25, 1)\n",
        "Ragini_transposed = Ragini_reshaped.T\n",
        "\n",
        "print(\"\\nReshaped array (25x1):\\n\", Ragini_reshaped)\n",
        "print(\"\\nTransposed array using reshape:\\n\", Ragini_transposed)\n",
        "\n",
        "print(\"\\nTrying to use .T on 1-D array:\", Ragini.T)\n",
        "\n"
      ],
      "metadata": {
        "colab": {
          "base_uri": "https://localhost:8080/"
        },
        "id": "bmX1b5Yp1BI9",
        "outputId": "65695b35-2059-4739-c8a6-99161f0b95e8"
      },
      "execution_count": 4,
      "outputs": [
        {
          "output_type": "stream",
          "name": "stdout",
          "text": [
            "Array: [ 10.    13.75  17.5   21.25  25.    28.75  32.5   36.25  40.    43.75\n",
            "  47.5   51.25  55.    58.75  62.5   66.25  70.    73.75  77.5   81.25\n",
            "  85.    88.75  92.5   96.25 100.  ]\n",
            "Dimensions of the array: 1\n",
            "Shape of the array: (25,)\n",
            "Total elements in the array: 25\n",
            "Data type of each element: float64\n",
            "Total number of bytes consumed: 200\n",
            "\n",
            "Reshaped array (25x1):\n",
            " [[ 10.  ]\n",
            " [ 13.75]\n",
            " [ 17.5 ]\n",
            " [ 21.25]\n",
            " [ 25.  ]\n",
            " [ 28.75]\n",
            " [ 32.5 ]\n",
            " [ 36.25]\n",
            " [ 40.  ]\n",
            " [ 43.75]\n",
            " [ 47.5 ]\n",
            " [ 51.25]\n",
            " [ 55.  ]\n",
            " [ 58.75]\n",
            " [ 62.5 ]\n",
            " [ 66.25]\n",
            " [ 70.  ]\n",
            " [ 73.75]\n",
            " [ 77.5 ]\n",
            " [ 81.25]\n",
            " [ 85.  ]\n",
            " [ 88.75]\n",
            " [ 92.5 ]\n",
            " [ 96.25]\n",
            " [100.  ]]\n",
            "\n",
            "Transposed array using reshape:\n",
            " [[ 10.    13.75  17.5   21.25  25.    28.75  32.5   36.25  40.    43.75\n",
            "   47.5   51.25  55.    58.75  62.5   66.25  70.    73.75  77.5   81.25\n",
            "   85.    88.75  92.5   96.25 100.  ]]\n",
            "\n",
            "Trying to use .T on 1-D array: [ 10.    13.75  17.5   21.25  25.    28.75  32.5   36.25  40.    43.75\n",
            "  47.5   51.25  55.    58.75  62.5   66.25  70.    73.75  77.5   81.25\n",
            "  85.    88.75  92.5   96.25 100.  ]\n"
          ]
        }
      ]
    },
    {
      "cell_type": "code",
      "source": [
        "import numpy as np\n",
        "\n",
        "ucs420_Ragini = np.array([[10, 20, 30, 40],\n",
        "                            [50, 60, 70, 80],\n",
        "                            [90, 15, 20, 35]])\n",
        "\n",
        "mean_value = np.mean(ucs420_Ragini)\n",
        "median_value = np.median(ucs420_Ragini)\n",
        "max_value = np.max(ucs420_Ragini)\n",
        "min_value = np.min(ucs420_Ragini)\n",
        "unique_elements = np.unique(ucs420_Ragini)\n",
        "\n",
        "print(\"Mean:\", mean_value)\n",
        "print(\"Median:\", median_value)\n",
        "print(\"Max:\", max_value)\n",
        "print(\"Min:\", min_value)\n",
        "print(\"Unique Elements:\", unique_elements)\n",
        "\n",
        "# Reshaping the array to four rows and three columns\n",
        "reshaped_ucs420_Ragini = ucs420_Ragini.reshape(4, 3)\n",
        "print(\"\\nReshaped Array (4x3):\\n\", reshaped_ucs420_Ragini)\n",
        "\n",
        "# Resizing the array to two rows and three columns\n",
        "resized_ucs420_Ragini = np.resize(ucs420_Ragini, (2, 3))\n",
        "print(\"\\nResized Array (2x3):\\n\", resized_ucs420_Ragini)\n"
      ],
      "metadata": {
        "colab": {
          "base_uri": "https://localhost:8080/"
        },
        "id": "77oSjGPx2ECB",
        "outputId": "10db7da7-74ee-48f3-876e-e5bc7418f912"
      },
      "execution_count": 5,
      "outputs": [
        {
          "output_type": "stream",
          "name": "stdout",
          "text": [
            "Mean: 43.333333333333336\n",
            "Median: 37.5\n",
            "Max: 90\n",
            "Min: 10\n",
            "Unique Elements: [10 15 20 30 35 40 50 60 70 80 90]\n",
            "\n",
            "Reshaped Array (4x3):\n",
            " [[10 20 30]\n",
            " [40 50 60]\n",
            " [70 80 90]\n",
            " [15 20 35]]\n",
            "\n",
            "Resized Array (2x3):\n",
            " [[10 20 30]\n",
            " [40 50 60]]\n"
          ]
        }
      ]
    }
  ]
}